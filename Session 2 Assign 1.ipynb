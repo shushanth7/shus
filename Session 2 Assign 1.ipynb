{
 "cells": [
  {
   "cell_type": "code",
   "execution_count": 1,
   "metadata": {},
   "outputs": [
    {
     "data": {
      "text/plain": [
       "'TASK 1'"
      ]
     },
     "execution_count": 1,
     "metadata": {},
     "output_type": "execute_result"
    }
   ],
   "source": [
    "'''TASK 1'''"
   ]
  },
  {
   "cell_type": "code",
   "execution_count": 3,
   "metadata": {},
   "outputs": [],
   "source": [
    "'''to build a sample reduce function'''\n",
    "from functools import reduce\n",
    "min_find = lambda a,b:a if (a<b) else b\n",
    "lst = [22,1,32,7]"
   ]
  },
  {
   "cell_type": "code",
   "execution_count": 4,
   "metadata": {},
   "outputs": [
    {
     "data": {
      "text/plain": [
       "1"
      ]
     },
     "execution_count": 4,
     "metadata": {},
     "output_type": "execute_result"
    }
   ],
   "source": [
    "#fine min\n",
    "reduce(min_find,lst)"
   ]
  },
  {
   "cell_type": "code",
   "execution_count": 6,
   "metadata": {},
   "outputs": [],
   "source": [
    "''' Task 1 --> 1.1 \n",
    "sample reduce function for product of numbers'''\n",
    "ls = [7,1,6,4,1,2,6,6,5]\n",
    "fun = lambda n1,n2: n1 * n2"
   ]
  },
  {
   "cell_type": "code",
   "execution_count": 7,
   "metadata": {},
   "outputs": [
    {
     "data": {
      "text/plain": [
       "60480"
      ]
     },
     "execution_count": 7,
     "metadata": {},
     "output_type": "execute_result"
    }
   ],
   "source": [
    "reduce(fun,ls)"
   ]
  },
  {
   "cell_type": "code",
   "execution_count": 8,
   "metadata": {},
   "outputs": [],
   "source": [
    "''' Task 1 --> 1.2 \n",
    "sample filter function to print only the names that are less than \n",
    "or equal to seven letters'''\n",
    "my_names = [\"olumide\", \"akinremi\", \"josiah\", \"temidayo\", \"omoseun\"]"
   ]
  },
  {
   "cell_type": "code",
   "execution_count": 9,
   "metadata": {},
   "outputs": [],
   "source": [
    "filter_result = list(filter(lambda name:len(name)<=7,my_names))"
   ]
  },
  {
   "cell_type": "code",
   "execution_count": 10,
   "metadata": {},
   "outputs": [
    {
     "name": "stdout",
     "output_type": "stream",
     "text": [
      "['olumide', 'josiah', 'omoseun']\n"
     ]
    }
   ],
   "source": [
    "print(filter_result)"
   ]
  },
  {
   "cell_type": "code",
   "execution_count": null,
   "metadata": {},
   "outputs": [],
   "source": []
  },
  {
   "cell_type": "code",
   "execution_count": null,
   "metadata": {},
   "outputs": [],
   "source": []
  },
  {
   "cell_type": "code",
   "execution_count": 11,
   "metadata": {},
   "outputs": [
    {
     "data": {
      "text/plain": [
       "'s'"
      ]
     },
     "execution_count": 11,
     "metadata": {},
     "output_type": "execute_result"
    }
   ],
   "source": [
    "'''Task 1 --> 1.3\n",
    "Implement a function longestWord() that takes a list of words and returns the longest one.\n",
    "'''\n",
    "lword = 's'\n",
    "def longestWord(wlist):\n",
    "    for i in wlist:\n",
    "        if len(i)>len(i+1) & len(i)>len(lword):\n",
    "            lword = wlist[i]\n",
    "        else:\n",
    "            lword = wlist[i+1]\n",
    "return lword"
   ]
  },
  {
   "cell_type": "code",
   "execution_count": 12,
   "metadata": {},
   "outputs": [],
   "source": [
    "from functools import reduce\n",
    "wordlst = ['greater','toogreateristhis','great','good']\n",
    "lon_word = lambda w1,w2:w1 if len(w1)>len(w2) else w2"
   ]
  },
  {
   "cell_type": "code",
   "execution_count": 13,
   "metadata": {},
   "outputs": [
    {
     "data": {
      "text/plain": [
       "'toogreateristhis'"
      ]
     },
     "execution_count": 13,
     "metadata": {},
     "output_type": "execute_result"
    }
   ],
   "source": [
    "reduce(lon_word,wordlst)"
   ]
  },
  {
   "cell_type": "code",
   "execution_count": 16,
   "metadata": {},
   "outputs": [
    {
     "data": {
      "text/plain": [
       "'toogreateristhis'"
      ]
     },
     "execution_count": 16,
     "metadata": {},
     "output_type": "execute_result"
    }
   ],
   "source": [
    "wlist = ['greater','toogreateristhis','great','good']\n",
    "longestWord(wlist)"
   ]
  },
  {
   "cell_type": "code",
   "execution_count": 15,
   "metadata": {},
   "outputs": [],
   "source": [
    "def longestWord(wlist):\n",
    "    word = ''\n",
    "    longest = 0\n",
    "    for i in wlist:\n",
    "        if len(i)>longest:\n",
    "            word = i\n",
    "            longest = len(i)\n",
    "    return word"
   ]
  },
  {
   "cell_type": "code",
   "execution_count": null,
   "metadata": {},
   "outputs": [],
   "source": []
  },
  {
   "cell_type": "code",
   "execution_count": null,
   "metadata": {},
   "outputs": [],
   "source": []
  },
  {
   "cell_type": "code",
   "execution_count": 17,
   "metadata": {},
   "outputs": [],
   "source": [
    "hletters = ['ACADGILD']"
   ]
  },
  {
   "cell_type": "code",
   "execution_count": 18,
   "metadata": {},
   "outputs": [
    {
     "data": {
      "text/plain": [
       "['ACADGILD']"
      ]
     },
     "execution_count": 18,
     "metadata": {},
     "output_type": "execute_result"
    }
   ],
   "source": [
    "hletters"
   ]
  },
  {
   "cell_type": "code",
   "execution_count": 19,
   "metadata": {},
   "outputs": [
    {
     "name": "stdout",
     "output_type": "stream",
     "text": [
      "['A', 'C', 'A', 'D', 'G', 'I', 'L', 'D']\n"
     ]
    }
   ],
   "source": [
    "'''task 1 --> 2 Write List comprehensions to produce the following Lists'''\n",
    "\n",
    "#['A', 'C', 'A', 'D', 'G', 'I', 'L', 'D']\n",
    "\n",
    "res = [letter for letter in 'ACADGILD']\n",
    "print(res)"
   ]
  },
  {
   "cell_type": "code",
   "execution_count": null,
   "metadata": {},
   "outputs": [],
   "source": []
  },
  {
   "cell_type": "code",
   "execution_count": null,
   "metadata": {},
   "outputs": [],
   "source": []
  },
  {
   "cell_type": "code",
   "execution_count": 20,
   "metadata": {
    "scrolled": true
   },
   "outputs": [
    {
     "data": {
      "text/plain": [
       "['x', 'xx', 'xxx', 'xxxx', 'y', 'yy', 'yyy', 'yyyy', 'z', 'zz', 'zzz', 'zzzz']"
      ]
     },
     "execution_count": 20,
     "metadata": {},
     "output_type": "execute_result"
    }
   ],
   "source": [
    "wl = []\n",
    "for i in 'xyz':\n",
    "    for j in range(1,5):\n",
    "      wl.append(i*j)     \n",
    "wl    "
   ]
  },
  {
   "cell_type": "code",
   "execution_count": null,
   "metadata": {},
   "outputs": [],
   "source": []
  },
  {
   "cell_type": "code",
   "execution_count": null,
   "metadata": {},
   "outputs": [],
   "source": []
  },
  {
   "cell_type": "code",
   "execution_count": 23,
   "metadata": {},
   "outputs": [
    {
     "name": "stdout",
     "output_type": "stream",
     "text": [
      "[\"'x', 'xx', 'xxx', 'xxxx'\", \"'y', 'yy', 'yyy', 'yyyy'\", \"'z', 'zz', 'zzz', 'zzzz'\"]\n"
     ]
    }
   ],
   "source": [
    "#['x', 'xx', 'xxx', 'xxxx', 'y', 'yy', 'yyy', 'yyyy', 'z', 'zz', 'zzz', 'zzzz']\n",
    "wrd = 'xyz'\n",
    "res2 =[ mult(w) for w in wrd]\n",
    "print(res2)"
   ]
  },
  {
   "cell_type": "code",
   "execution_count": 22,
   "metadata": {},
   "outputs": [],
   "source": [
    "def mult(wrd):\n",
    "    w2 = []\n",
    "    for i in wrd:\n",
    "        for j in range(1,5):\n",
    "            w2.append(i*j)     \n",
    "\n",
    "    return str(w2)[1:-1]  "
   ]
  },
  {
   "cell_type": "code",
   "execution_count": null,
   "metadata": {},
   "outputs": [],
   "source": []
  },
  {
   "cell_type": "code",
   "execution_count": null,
   "metadata": {},
   "outputs": [],
   "source": []
  },
  {
   "cell_type": "code",
   "execution_count": 24,
   "metadata": {},
   "outputs": [
    {
     "name": "stdout",
     "output_type": "stream",
     "text": [
      "'x', 'xx', 'xxx', 'xxxx', 'y', 'yy', 'yyy', 'yyyy', 'z', 'zz', 'zzz', 'zzzz'\n"
     ]
    }
   ],
   "source": [
    "#['x', 'xx', 'xxx', 'xxxx', 'y', 'yy', 'yyy', 'yyyy', 'z', 'zz', 'zzz', 'zzzz']\n",
    "\n",
    "l1 = ['x','y','z']\n",
    "l2 = ['x','y','z']\n",
    "wr = 'xyz'\n",
    "res4 = [[(i*j)for i in range(1,5) for j in 'x']]\n",
    "res4.extend([[(i*j)for i in range(1,5) for j in 'y']])\n",
    "res4.extend([[(i*j)for i in range(1,5) for j in 'z']])\n",
    "print((str(res4).replace(']','').replace('[','')))"
   ]
  },
  {
   "cell_type": "code",
   "execution_count": null,
   "metadata": {},
   "outputs": [],
   "source": []
  },
  {
   "cell_type": "code",
   "execution_count": null,
   "metadata": {},
   "outputs": [],
   "source": []
  },
  {
   "cell_type": "code",
   "execution_count": 25,
   "metadata": {},
   "outputs": [
    {
     "name": "stdout",
     "output_type": "stream",
     "text": [
      "['x', 'y', 'z', 'xx', 'yy', 'zz', 'xxx', 'yyy', 'zzz', 'xxxx', 'yyyy', 'zzzz']\n"
     ]
    }
   ],
   "source": [
    "#['x', 'y', 'z', 'xx', 'yy', 'zz', 'xxx', 'yyy', 'zzz', 'xxxx', 'yyyy', 'zzzz']\n",
    "\n",
    "l1 = ['x','y','z']\n",
    "l2 = ['x','y','z']\n",
    "res4 = [(i*j)for i in range(1,5) for j in l2]\n",
    "print(res4)"
   ]
  },
  {
   "cell_type": "code",
   "execution_count": null,
   "metadata": {},
   "outputs": [],
   "source": []
  },
  {
   "cell_type": "code",
   "execution_count": null,
   "metadata": {},
   "outputs": [],
   "source": []
  },
  {
   "cell_type": "code",
   "execution_count": 26,
   "metadata": {},
   "outputs": [
    {
     "name": "stdout",
     "output_type": "stream",
     "text": [
      "[[2], [3], [4], [3], [4], [5], [4], [5], [6]]\n"
     ]
    }
   ],
   "source": [
    "#[[2], [3], [4], [3], [4], [5], [4], [5], [6]]\n",
    "\n",
    "s1 = [2,3,4,3,4,5,4,5,6]\n",
    "lcomp = [[i] for i in s1]\n",
    "print(lcomp)"
   ]
  },
  {
   "cell_type": "code",
   "execution_count": null,
   "metadata": {},
   "outputs": [],
   "source": []
  },
  {
   "cell_type": "code",
   "execution_count": null,
   "metadata": {},
   "outputs": [],
   "source": []
  },
  {
   "cell_type": "code",
   "execution_count": 27,
   "metadata": {},
   "outputs": [
    {
     "name": "stdout",
     "output_type": "stream",
     "text": [
      "[[2, 3, 4, 5], [3, 4, 5, 6], [4, 5, 6, 7], [5, 6, 7, 8]]\n"
     ]
    }
   ],
   "source": [
    "#[[2, 3, 4, 5], [3, 4, 5, 6], [4, 5, 6, 7], [5, 6, 7, 8]]\n",
    "\n",
    "s2 = [2,3,4,5,3,4,5,6,4,5,6,7,5,6,7,8]\n",
    "lcomp1 = [[i for i in s2[:4]] for i in s2[:1]]\n",
    "lcomp1.extend([[i for i in s2[4:8]] for i in s2[:1]])\n",
    "lcomp1.extend([[i for i in s2[8:12]] for i in s2[:1]])\n",
    "lcomp1.extend([[i for i in s2[12:]] for i in s2[:1]])\n",
    "print(lcomp1)"
   ]
  },
  {
   "cell_type": "code",
   "execution_count": null,
   "metadata": {},
   "outputs": [],
   "source": []
  },
  {
   "cell_type": "code",
   "execution_count": 28,
   "metadata": {},
   "outputs": [
    {
     "name": "stdout",
     "output_type": "stream",
     "text": [
      "[(1, 1), (2, 1), (3, 1), (1, 2), (2, 2), (3, 2), (1, 3), (2, 3), (3, 3)]\n"
     ]
    }
   ],
   "source": [
    "#[(1, 1), (2, 1), (3, 1), (1, 2), (2, 2), (3, 2), (1, 3), (2, 3), (3, 3)]\n",
    "\n",
    "s3 = (1,2,3)\n",
    "s4 = (1,2,3)\n",
    "lcomp2 = [(i,j) for j in s3 for i in s4]\n",
    "print(lcomp2)"
   ]
  },
  {
   "cell_type": "code",
   "execution_count": null,
   "metadata": {},
   "outputs": [],
   "source": []
  },
  {
   "cell_type": "code",
   "execution_count": null,
   "metadata": {},
   "outputs": [],
   "source": []
  },
  {
   "cell_type": "code",
   "execution_count": null,
   "metadata": {},
   "outputs": [],
   "source": [
    "'''TASK 2'''"
   ]
  },
  {
   "cell_type": "code",
   "execution_count": null,
   "metadata": {},
   "outputs": [],
   "source": [
    "'''1.1\n",
    "Write a Python Program(with class concepts) to find the area of the triangle using the below\n",
    "formula.\n",
    "area = (s*(s-a)*(s-b)*(s-c)) ** 0.5\n",
    "Function to take the length of the sides of triangle from user should be defined in the parent\n",
    "class and function to calculate the area should be defined in subclass.\n",
    "'''"
   ]
  },
  {
   "cell_type": "code",
   "execution_count": null,
   "metadata": {},
   "outputs": [],
   "source": []
  },
  {
   "cell_type": "code",
   "execution_count": 87,
   "metadata": {},
   "outputs": [],
   "source": [
    "def len_of_side():\n",
    "        a = float(input(\"enter length of 1st sides of a triangle: \"))\n",
    "        b = float(input(\"enter length of 2nd sides of a triangle: \"))\n",
    "        c = float(input(\"enter length of 3rd sides of a triangle: \"))\n",
    "        s = (a+b+c)/2  #s is semi perimeter of a triangle\n",
    "        ar = (s*(s-a)*(s-b)*(s-c)) ** 0.5\n",
    "        print(\"area is  \",ar)\n",
    "        return \"the perimeter of triangle is %.2f\" \\\n",
    "                 % (s)\n",
    "    "
   ]
  },
  {
   "cell_type": "code",
   "execution_count": 88,
   "metadata": {},
   "outputs": [
    {
     "name": "stdout",
     "output_type": "stream",
     "text": [
      "enter length of 1st sides of a triangle: 9\n",
      "enter length of 2nd sides of a triangle: 7\n",
      "enter length of 3rd sides of a triangle: 5\n",
      "area is  17.41228014936585\n",
      "the perimeter of triangle is 10.50\n"
     ]
    }
   ],
   "source": [
    "r = len_of_side()\n",
    "print(r)"
   ]
  },
  {
   "cell_type": "code",
   "execution_count": null,
   "metadata": {},
   "outputs": [],
   "source": []
  },
  {
   "cell_type": "code",
   "execution_count": null,
   "metadata": {},
   "outputs": [],
   "source": []
  },
  {
   "cell_type": "markdown",
   "metadata": {},
   "source": [
    "'''1.2'''"
   ]
  },
  {
   "cell_type": "code",
   "execution_count": null,
   "metadata": {},
   "outputs": [],
   "source": [
    "'''Write a function filter_long_words() that takes a list of words and an integer n and returns the list\n",
    "of words that are longer than n.'''"
   ]
  },
  {
   "cell_type": "code",
   "execution_count": 157,
   "metadata": {},
   "outputs": [],
   "source": [
    "def filter_long_words(word_list,num):\n",
    "    f_list = []\n",
    "    print(\"given list of words :\",word_list)\n",
    "    print(\"list of words longer than lenght\",num)\n",
    "    for i in word_list:\n",
    "        if len(i) > num:\n",
    "            f_list.append(i)\n",
    "        \n",
    "    return f_list"
   ]
  },
  {
   "cell_type": "code",
   "execution_count": 159,
   "metadata": {
    "scrolled": true
   },
   "outputs": [
    {
     "name": "stdout",
     "output_type": "stream",
     "text": [
      "Enter number of words : 4\n",
      "enter words\n",
      "ineuron\n",
      "python\n",
      "cl\n",
      "learn\n",
      "enter an integer: 2\n",
      "given list of words : ['ineuron', 'python', 'cl', 'learn']\n",
      "list of words longer than lenght 2\n",
      "['ineuron', 'python', 'learn']\n"
     ]
    }
   ],
   "source": [
    "word_list = []\n",
    "n = int(input(\"Enter number of words : \")) \n",
    "print(\"enter words\")\n",
    "word_list.clear()\n",
    "for i in range(0,n):\n",
    "        ele = str(input())\n",
    "        word_list.append(ele)\n",
    "    \n",
    "num = int(input(\"enter an integer: \"))\n",
    "result = filter_long_words(word_list,num)\n",
    "print(result)\n",
    "#print(word_list)"
   ]
  },
  {
   "cell_type": "code",
   "execution_count": null,
   "metadata": {},
   "outputs": [],
   "source": []
  },
  {
   "cell_type": "code",
   "execution_count": null,
   "metadata": {},
   "outputs": [],
   "source": [
    "'''2.1'''"
   ]
  },
  {
   "cell_type": "code",
   "execution_count": null,
   "metadata": {},
   "outputs": [],
   "source": [
    "'''Write a Python program using function concept that maps list of words into a list of integers\n",
    "representing the lengths of the corresponding words'''"
   ]
  },
  {
   "cell_type": "code",
   "execution_count": 120,
   "metadata": {},
   "outputs": [],
   "source": [
    "def list_int(list1):\n",
    "    newl = []\n",
    "    for i in list1:\n",
    "        newl.append(len(i))\n",
    "        \n",
    "    return newl   "
   ]
  },
  {
   "cell_type": "code",
   "execution_count": 156,
   "metadata": {},
   "outputs": [
    {
     "name": "stdout",
     "output_type": "stream",
     "text": [
      "enter list of words: tokyo,germany,italy,london\n",
      "[5, 7, 5, 6]\n"
     ]
    }
   ],
   "source": [
    "list1 = input(\"enter list of words: \").split(\",\")\n",
    "op_list = list_int(list1)\n",
    "print(op_list)"
   ]
  },
  {
   "cell_type": "code",
   "execution_count": null,
   "metadata": {},
   "outputs": [],
   "source": []
  },
  {
   "cell_type": "code",
   "execution_count": null,
   "metadata": {},
   "outputs": [],
   "source": []
  },
  {
   "cell_type": "code",
   "execution_count": null,
   "metadata": {},
   "outputs": [],
   "source": [
    "'''2.2'''"
   ]
  },
  {
   "cell_type": "code",
   "execution_count": 152,
   "metadata": {},
   "outputs": [],
   "source": [
    "'''Write a Python function which takes a character (i.e. a string of length 1) and returns True if it is\n",
    "a vowel, False otherwise.\n",
    "'''\n",
    "\n",
    "def fun1(str1):\n",
    "    c = 0\n",
    "    ret = bool\n",
    "    list_vowels = ['a','e','i','o','u']\n",
    "    for i in list_vowels:\n",
    "        if i == str1:\n",
    "            c+=1\n",
    "            ret = True\n",
    "            break\n",
    "        else:\n",
    "            ret = False\n",
    "            \n",
    "    return ret "
   ]
  },
  {
   "cell_type": "code",
   "execution_count": 154,
   "metadata": {},
   "outputs": [
    {
     "name": "stdout",
     "output_type": "stream",
     "text": [
      "enter a character: t\n",
      "False\n"
     ]
    }
   ],
   "source": [
    "str1  = input(\"enter a character: \")\n",
    "print(fun1(str1))"
   ]
  },
  {
   "cell_type": "code",
   "execution_count": null,
   "metadata": {},
   "outputs": [],
   "source": []
  },
  {
   "cell_type": "code",
   "execution_count": null,
   "metadata": {},
   "outputs": [],
   "source": [
    "************************completed*********************************"
   ]
  }
 ],
 "metadata": {
  "kernelspec": {
   "display_name": "Python 3",
   "language": "python",
   "name": "python3"
  },
  "language_info": {
   "codemirror_mode": {
    "name": "ipython",
    "version": 3
   },
   "file_extension": ".py",
   "mimetype": "text/x-python",
   "name": "python",
   "nbconvert_exporter": "python",
   "pygments_lexer": "ipython3",
   "version": "3.7.1"
  }
 },
 "nbformat": 4,
 "nbformat_minor": 2
}
