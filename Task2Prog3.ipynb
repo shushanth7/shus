{
 "cells": [
  {
   "cell_type": "code",
   "execution_count": 7,
   "metadata": {},
   "outputs": [
    {
     "name": "stdout",
     "output_type": "stream",
     "text": [
      "given format string\n",
      " WE, THE PEOPLE OF INDIA, \n",
      "having solemnly resolved to constitute India into a\n",
      "SOVEREIGN, SOCIALIST, SECULAR, DEMOCRATIC REPUBLIC and to secure to all\n",
      "its citizens\n",
      "\n",
      " new format string\n",
      "\n",
      "WE, THE PEOPLE OF INDIA, \n",
      "\t having solemnly resolved to constitute India into a SOVEREIGN,!\n",
      " \t\tSOCIALIST, SECULAR, DEMOCRATIC REPUBLIC\n",
      " \t\t and to secure to all its citizens\n"
     ]
    }
   ],
   "source": [
    "inp_str = \"\"\"WE, THE PEOPLE OF INDIA, \n",
    "having solemnly resolved to constitute India into a\n",
    "SOVEREIGN, SOCIALIST, SECULAR, DEMOCRATIC REPUBLIC and to secure to all\n",
    "its citizens\"\"\"\n",
    "\n",
    "print(\"given format string\\n\",inp_str)\n",
    "print(\"\\n new format string\\n\")\n",
    "print(\"WE, THE PEOPLE OF INDIA, {} {} \\t\\t and to secure to all its citizens\".format(\"\\n\\t having solemnly resolved to constitute India into a SOVEREIGN,!\\n\",\"\\t\\tSOCIALIST, SECULAR, DEMOCRATIC REPUBLIC\\n\"))\n"
   ]
  },
  {
   "cell_type": "code",
   "execution_count": null,
   "metadata": {},
   "outputs": [],
   "source": []
  }
 ],
 "metadata": {
  "kernelspec": {
   "display_name": "Python 3",
   "language": "python",
   "name": "python3"
  },
  "language_info": {
   "codemirror_mode": {
    "name": "ipython",
    "version": 3
   },
   "file_extension": ".py",
   "mimetype": "text/x-python",
   "name": "python",
   "nbconvert_exporter": "python",
   "pygments_lexer": "ipython3",
   "version": "3.7.1"
  }
 },
 "nbformat": 4,
 "nbformat_minor": 2
}
